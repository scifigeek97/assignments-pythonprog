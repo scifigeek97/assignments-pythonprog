{
 "cells": [
  {
   "cell_type": "raw",
   "metadata": {},
   "source": [
    "1) A company decided to give bonus of 5% to employee if his/her year of service is more than 5 years.\n",
    "Ask user for their salary and year of service and print the net bonus amount."
   ]
  },
  {
   "cell_type": "code",
   "execution_count": 1,
   "metadata": {
    "scrolled": true
   },
   "outputs": [
    {
     "name": "stdout",
     "output_type": "stream",
     "text": [
      "Enter your Salary: 10000\n",
      "Enter your Years of service: 7\n",
      "Your Net Bonus is: \n",
      "500.0\n"
     ]
    }
   ],
   "source": [
    "salary = int(input(\"Enter your Salary: \"))\n",
    "years_of_service = int(input(\"Enter your Years of service: \"))\n",
    "bonus = salary*0.05\n",
    "\n",
    "if years_of_service >5:\n",
    "    print (\"Your Net Bonus is: \")\n",
    "    print (float(bonus) )\n",
    "else:\n",
    "    print (\"You're tenure is less, no bonus for you\")\n",
    "    "
   ]
  },
  {
   "cell_type": "markdown",
   "metadata": {},
   "source": [
    "\n",
    "2) Write a program to check whether a person is eligible for voting or not. (accept age from user) if age is greater than 17 eligible otherwise not eligible"
   ]
  },
  {
   "cell_type": "code",
   "execution_count": 3,
   "metadata": {},
   "outputs": [
    {
     "name": "stdout",
     "output_type": "stream",
     "text": [
      "Enter your Name: Wasif\n",
      "Enter your age: 24\n",
      "Congrats, Wasif, you're eligible for Voting\n"
     ]
    }
   ],
   "source": [
    "name = input(\"Enter your Name: \")\n",
    "age = int(input(\"Enter your age: \"))\n",
    "\n",
    "if age > 17:\n",
    "    print(\"Congrats, \"+ name + \", you're eligible for Voting\")\n",
    "else:\n",
    "    print(\"Sorry, You can't vote, \"+ name) "
   ]
  },
  {
   "cell_type": "markdown",
   "metadata": {},
   "source": [
    "\n",
    "3) Write a program to check whether a number entered by user is even or odd."
   ]
  },
  {
   "cell_type": "code",
   "execution_count": 5,
   "metadata": {},
   "outputs": [
    {
     "name": "stdout",
     "output_type": "stream",
     "text": [
      "Enter a number to find whether it's even or odd: 9\n",
      "number is odd\n"
     ]
    }
   ],
   "source": [
    "num = int(input(\"Enter a number to find whether it's even or odd: \"))\n",
    "\n",
    "if num%2==0:\n",
    "    print(\"number is even\")\n",
    "else:\n",
    "    print(\"number is odd\")"
   ]
  },
  {
   "cell_type": "markdown",
   "metadata": {},
   "source": [
    "4) Write a program to check whether a number is divisible by 7 or not.\n",
    "Show Answer"
   ]
  },
  {
   "cell_type": "code",
   "execution_count": 8,
   "metadata": {},
   "outputs": [
    {
     "name": "stdout",
     "output_type": "stream",
     "text": [
      "Enter a number to find whether it's divisible by 7: 49\n",
      "is\n"
     ]
    }
   ],
   "source": [
    "num = int(input(\"Enter a number to find whether it's divisible by 7: \"))\n",
    "if num%7==0:\n",
    "    print(\"is divisible by 7!\")\n",
    "else:\n",
    "    print(\"not divisible by 7. Try again with another numver\")"
   ]
  },
  {
   "cell_type": "raw",
   "metadata": {},
   "source": [
    "5) Write a program to display \n",
    "\"Hello\" if a number entered by user is a multiple of five , otherwise print \"Bye\"."
   ]
  },
  {
   "cell_type": "code",
   "execution_count": 11,
   "metadata": {},
   "outputs": [
    {
     "name": "stdout",
     "output_type": "stream",
     "text": [
      "Check if number is a multiple of 5: 6\n",
      "Bye\n"
     ]
    }
   ],
   "source": [
    "num = int(input(\"Check if number is a multiple of 5: \"))\n",
    "if num%5==0:\n",
    "    print(\"Hello!\")\n",
    "else:\n",
    "    print(\"Bye\")"
   ]
  },
  {
   "cell_type": "raw",
   "metadata": {},
   "source": [
    "7) Write a program to display the last digit of a number.\n"
   ]
  },
  {
   "cell_type": "code",
   "execution_count": 15,
   "metadata": {},
   "outputs": [
    {
     "name": "stdout",
     "output_type": "stream",
     "text": [
      "Please Enter any Number: 251\n",
      "The Last Digit in a Given Number: \n",
      "1\n"
     ]
    }
   ],
   "source": [
    "num= int(input(\"Please Enter any Number: \"))\n",
    "\n",
    "last_digit_of_num = num % 10\n",
    "\n",
    "print(\"The Last Digit in a Given Number: \")\n",
    "print (last_digit_of_num)"
   ]
  },
  {
   "cell_type": "raw",
   "metadata": {},
   "source": [
    "Q8. Write a program to check whether the last digit of a number( entered by user ) is \n",
    "divisible by 3 or not."
   ]
  },
  {
   "cell_type": "code",
   "execution_count": 17,
   "metadata": {},
   "outputs": [
    {
     "name": "stdout",
     "output_type": "stream",
     "text": [
      "Please Enter any number: 23\n",
      "3\n",
      " is Divisible by 3\n"
     ]
    }
   ],
   "source": [
    "num= int(input(\"Please Enter any number: \"))\n",
    "\n",
    "last_digit_of_num = num % 10\n",
    "\n",
    "if last_digit_of_num%3 ==0:\n",
    "    print(last_digit_of_num)\n",
    "    print(\"is Divisible by 3\")\n",
    "else:\n",
    "    print(\"is NOT divisible by 3\")\n"
   ]
  },
  {
   "cell_type": "raw",
   "metadata": {},
   "source": [
    "9) Take values of length and breadth of a rectangle from user and print if it is square or rectangle."
   ]
  },
  {
   "cell_type": "code",
   "execution_count": 19,
   "metadata": {},
   "outputs": [
    {
     "name": "stdout",
     "output_type": "stream",
     "text": [
      "Enter length here: 2\n",
      "Enter breadth here: 3\n",
      "It is a rectangle\n"
     ]
    }
   ],
   "source": [
    "length = int(input(\"Enter length here: \"))\n",
    "breadth = int(input(\"Enter breadth here: \"))\n",
    "if length == breadth:\n",
    "    print(\"It is a square\")\n",
    "else:\n",
    "    print(\"It is a rectangle\")"
   ]
  },
  {
   "cell_type": "raw",
   "metadata": {},
   "source": [
    "10) Take two int values from user and print greatest among them."
   ]
  },
  {
   "cell_type": "code",
   "execution_count": 20,
   "metadata": {},
   "outputs": [
    {
     "name": "stdout",
     "output_type": "stream",
     "text": [
      "Enter number 1 here: 5\n",
      "Enter number 2 here: 6\n",
      "6\n"
     ]
    }
   ],
   "source": [
    "num1 = int(input(\"Enter number 1 here: \"))\n",
    "num2 = int(input(\"Enter number 2 here: \"))\n",
    "\n",
    "if num1>num2:\n",
    "    print(num1)\n",
    "else:\n",
    "    print(num2)"
   ]
  },
  {
   "cell_type": "raw",
   "metadata": {},
   "source": [
    "11) A shop will give discount of 10% if the cost of purchased quantity is more than 1000.\n",
    "Ask user for quantity\n",
    "Suppose, one unit will cost 100.\n",
    "Judge and print total cost for user."
   ]
  },
  {
   "cell_type": "code",
   "execution_count": 27,
   "metadata": {},
   "outputs": [
    {
     "name": "stdout",
     "output_type": "stream",
     "text": [
      "Enter your quantity you'd like to buy: 11\n",
      "You got a discount and your ammount is: \n",
      "990.0\n"
     ]
    }
   ],
   "source": [
    "purchase_quantity = int(input(\"Enter your quantity you'd like to buy: \"))\n",
    "cost_of_unit = 100\n",
    "total_cost = purchase_quantity*cost_of_unit\n",
    "discount_rate= 0.1*total_cost\n",
    "discount = total_cost-discount_rate\n",
    "\n",
    "if total_cost>1000:\n",
    "    print(\"You got a discount and your ammount is: \")\n",
    "    print(discount)\n",
    "else:\n",
    "    print(\"Your total cost is: \")\n",
    "    print(total_cost)\n",
    "\n"
   ]
  },
  {
   "cell_type": "raw",
   "metadata": {},
   "source": [
    "12) A school has following rules for grading system:\n",
    "\n",
    "a. Below 25 - F\n",
    "\n",
    "b. 25 to 45 - E\n",
    "\n",
    "c. 45 to 50 - D\n",
    "\n",
    "d. 50 to 60 - C\n",
    "\n",
    "e. 60 to 80 - B\n",
    "\n",
    "f. Above 80 - A\n",
    "\n",
    "Ask user to enter marks and print the corresponding grade."
   ]
  },
  {
   "cell_type": "code",
   "execution_count": 36,
   "metadata": {},
   "outputs": [
    {
     "name": "stdout",
     "output_type": "stream",
     "text": [
      "Enter your marks to know your grade: 66\n",
      "B\n"
     ]
    }
   ],
   "source": [
    "marks = int(input(\"Enter your marks to know your grade: \"))\n",
    "if marks < 25:\n",
    "    print(\"F\")\n",
    "elif 25 <= marks < 45:\n",
    "    print(\"E\")\n",
    "elif 45 <= marks < 50:\n",
    "    print(\"D\")\n",
    "elif 50 <= marks < 60:\n",
    "    print(\"C\")\n",
    "elif 60 <= marks < 80:\n",
    "    print(\"B\")\n",
    "elif marks >= 80:\n",
    "    print(\"A\")"
   ]
  },
  {
   "cell_type": "raw",
   "metadata": {},
   "source": [
    "14)A student will not be allowed to sit in exam if his/her attendence is less than 75%.\n",
    "\n",
    "Take following input from user\n",
    "\n",
    "Number of classes held\n",
    "\n",
    "Number of classes attended.\n",
    "\n",
    "And print\n",
    "\n",
    "percentage of class attended\n",
    "\n",
    "Is student is allowed to sit in exam or not.\n"
   ]
  },
  {
   "cell_type": "code",
   "execution_count": 43,
   "metadata": {},
   "outputs": [
    {
     "name": "stdout",
     "output_type": "stream",
     "text": [
      "Enter total number of classes: 40\n",
      "Enter number of classes you attended: 25\n",
      "Your attendance is: \n",
      "62.5\n",
      "Your attendance is less than required to sit in exams, contact your advisor\n"
     ]
    }
   ],
   "source": [
    "No_of_classes_held = int(input(\"Enter total number of classes: \"))\n",
    "no_of_classes_attended = int(input(\"Enter number of classes you attended: \"))\n",
    "attendance = float((no_of_classes_attended/No_of_classes_held)*100)\n",
    "print(\"Your attendance is: \")\n",
    "print(attendance)\n",
    "if attendance >= 75:\n",
    "    print(\"You can take the exams\")\n",
    "else:\n",
    "    print(\"Your attendance is less than required to sit in exams, contact your advisor\")"
   ]
  },
  {
   "cell_type": "raw",
   "metadata": {},
   "source": [
    "15) Modify the above question to allow student to sit if he/she has medical cause. Ask user if he/she has medical cause or not ( 'Y' or 'N' ) and print accordingly."
   ]
  },
  {
   "cell_type": "code",
   "execution_count": 48,
   "metadata": {},
   "outputs": [
    {
     "name": "stdout",
     "output_type": "stream",
     "text": [
      "Enter total number of classes: 40\n",
      "Enter number of classes you attended: 20\n",
      "Your attendance is: \n",
      "50.0\n",
      "Do you have a medical Issue, Y if yes or N if no?: Y\n",
      "Medical Issue: Y\n",
      "You can still sit in exams\n"
     ]
    }
   ],
   "source": [
    "No_of_classes_held = int(input(\"Enter total number of classes: \"))\n",
    "no_of_classes_attended = int(input(\"Enter number of classes you attended: \"))\n",
    "attendance = float((no_of_classes_attended/No_of_classes_held)*100)\n",
    "print(\"Your attendance is: \")\n",
    "print(attendance)\n",
    "\n",
    "med_cause = input(\"Do you have a medical Issue, Y if yes or N if no?: \")\n",
    "print(\"Medical Issue: \"+ med_cause)\n",
    "\n",
    "if attendance >= 75:\n",
    "    print(\"You can take the exams\")\n",
    "elif med_cause == \"Y\":\n",
    "    print(\"You can still sit in exams\")\n",
    "else:\n",
    "    print(\"Your attendance is less than required to sit in exams, contact your advisor\")"
   ]
  },
  {
   "cell_type": "raw",
   "metadata": {},
   "source": [
    "16) Write a program to check if a year is leap year or not.\n",
    "\n",
    "If a year is divisible by 4 then it is leap year but if the year is century year like 2000, 1900, 2100 then it must be divisible by 400."
   ]
  },
  {
   "cell_type": "code",
   "execution_count": 52,
   "metadata": {},
   "outputs": [
    {
     "name": "stdout",
     "output_type": "stream",
     "text": [
      "Enter a year1900\n",
      "This is a leap year\n"
     ]
    }
   ],
   "source": [
    "year = int(input(\"Enter a year\"))\n",
    "if year%4==0:\n",
    "    print(\"This is a leap year\")\n",
    "elif year%400==0:\n",
    "    print(\"Century\")"
   ]
  },
  {
   "cell_type": "raw",
   "metadata": {},
   "source": [
    "17) Ask user to enter age, gender ( M or F ), marital status ( Y or N ) and then using following rules print their place of service.\n",
    "\n",
    "if employee is female, then she will work only in urban areas.\n",
    "\n",
    "if employee is a male and age is in between 20 to 40 then he may work in anywhere\n",
    "\n",
    "if employee is male and age is in between 40 t0 60 then he will work in urban areas only.\n",
    "\n",
    "And any other input of age should print \"ERROR\""
   ]
  },
  {
   "cell_type": "code",
   "execution_count": 57,
   "metadata": {},
   "outputs": [
    {
     "name": "stdout",
     "output_type": "stream",
     "text": [
      "Enter your age: 35\n",
      "Enter M for Male or F for Female: M\n",
      "ARe you married> Y or N? Y\n",
      "he may work in anywhere\n"
     ]
    }
   ],
   "source": [
    "age = int(input(\"Enter your age: \"))\n",
    "gender = input(\"Enter M for Male or F for Female: \")\n",
    "marital_status = input(\"ARe you married> Y or N? \")\n",
    "\n",
    "if gender == \"F\":\n",
    "    print(\"you will work only in urban areas.\")\n",
    "if gender == \"M\" and age >= 20 and age <= 40:\n",
    "    print (\"he may work in anywhere\")\n",
    "elif gender == \"M\" and age > 40 and age <= 60:\n",
    "    print (\"he will work in urban areas only.\")\n",
    "else:\n",
    "    print(\"error\")\n",
    "    "
   ]
  },
  {
   "cell_type": "code",
   "execution_count": null,
   "metadata": {},
   "outputs": [],
   "source": []
  },
  {
   "cell_type": "raw",
   "metadata": {},
   "source": [
    "6) Write a program to calculate the electricity bill (accept number of unit from user) according to the following criteria :\n",
    "     Unit                                                     Price  \n",
    "uptp 100 units                                             no charge\n",
    "Next 200 units                                              Rs 5 per unit\n",
    "After 200 units                                             Rs 10 per unit\n",
    "(For example if input unit is 350 than total bill amount is Rs.3500\n",
    "(For example if input unit is 97 than total bill amount is Rs.0\n",
    "(For example if input unit is 150 than total bill amount is Rs.750\n"
   ]
  },
  {
   "cell_type": "code",
   "execution_count": 83,
   "metadata": {},
   "outputs": [
    {
     "name": "stdout",
     "output_type": "stream",
     "text": [
      "Enter your monthly units consumed: 97\n",
      "You have used \n",
      "97 units\n",
      "And your Bill is: 0 Rs\n"
     ]
    }
   ],
   "source": [
    "unit_consumed = int(input(\"Enter your monthly units consumed: \"))\n",
    "\n",
    "\n",
    "if unit_consumed <= 100:\n",
    "    print(\"You have used: \" + str(unit_consumed) + \" units\")\n",
    "    electricity_bill= unit_consumed*0\n",
    "    print(\"And your Bill is: \"+ str(electricity_bill)+ \" Rs\")\n",
    "   #for units 100 - 300 \n",
    "elif  100 < unit_consumed <= 300:\n",
    "    print(\"You have used: \" + str(unit_consumed) + \" units\")\n",
    "    electricity_bill= unit_consumed*5\n",
    "    print(\"And your Bill is: \"+ str(electricity_bill)+ \" Rs\")\n",
    "    #for units above 300 \n",
    "elif  unit_consumed > 300:\n",
    "    print(\"You have used: \" + str(unit_consumed) + \" units\")\n",
    "    electricity_bill= unit_consumed*10\n",
    "    print(\"And your Bill is: \"+ str(electricity_bill)+ \" Rs\")"
   ]
  },
  {
   "cell_type": "raw",
   "metadata": {},
   "source": [
    "13) Take input of age of 3 people by user and determine oldest and youngest among them."
   ]
  },
  {
   "cell_type": "code",
   "execution_count": 91,
   "metadata": {},
   "outputs": [
    {
     "name": "stdout",
     "output_type": "stream",
     "text": [
      "Enter your age Person 1: 35\n",
      "Enter your age Person 2: 16\n",
      "Enter your age Person 3: 17\n",
      "Person 1 aged: 35 is the oldest\n",
      "Person 2 aged: 16 is the youngest\n"
     ]
    }
   ],
   "source": [
    "person1 = int(input(\"Enter your age Person 1: \"))\n",
    "person2 = int(input(\"Enter your age Person 2: \"))\n",
    "person3 = int(input(\"Enter your age Person 3: \"))\n",
    "\n",
    "if person1 > person2 and person1 > person3:\n",
    "    print(\"Person 1 aged: \"+ str(person1)+ \" is the oldest\")\n",
    "elif person2 > person1 and person2 > person3:\n",
    "    print(\"Person 2 aged: \"+ str(person2)+ \" is the oldest\")\n",
    "else:\n",
    "    print(\"Person 3 aged: \"+ str(person3)+ \" is the oldest\")\n",
    "    \n",
    "if person1 < person2 and person1 < person3:\n",
    "    print(\"Person 1 aged: \"+ str(person1)+ \" is the youngest\")\n",
    "elif person2 < person1 and person2 < person3:\n",
    "    print(\"Person 2 aged: \"+ str(person2)+ \" is the youngest\")\n",
    "else:\n",
    "    print(\"Person 3 aged: \"+ str(person3)+ \" is the youngest\")"
   ]
  },
  {
   "cell_type": "code",
   "execution_count": null,
   "metadata": {},
   "outputs": [],
   "source": []
  },
  {
   "cell_type": "code",
   "execution_count": null,
   "metadata": {},
   "outputs": [],
   "source": []
  }
 ],
 "metadata": {
  "kernelspec": {
   "display_name": "Python 3 (ipykernel)",
   "language": "python",
   "name": "python3"
  },
  "language_info": {
   "codemirror_mode": {
    "name": "ipython",
    "version": 3
   },
   "file_extension": ".py",
   "mimetype": "text/x-python",
   "name": "python",
   "nbconvert_exporter": "python",
   "pygments_lexer": "ipython3",
   "version": "3.11.5"
  }
 },
 "nbformat": 4,
 "nbformat_minor": 2
}
